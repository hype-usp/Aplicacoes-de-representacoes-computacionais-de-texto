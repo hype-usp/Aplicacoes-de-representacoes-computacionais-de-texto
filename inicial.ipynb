{
 "cells": [
  {
   "cell_type": "code",
   "execution_count": 96,
   "metadata": {},
   "outputs": [],
   "source": [
    "import numpy as np\n",
    "import pandas as pd\n",
    "import matplotlib.pyplot as plt\n",
    "import seaborn as sns\n",
    "from sklearn.metrics import classification_report, accuracy_score\n",
    "from sklearn.model_selection import train_test_split"
   ]
  },
  {
   "cell_type": "code",
   "execution_count": 97,
   "metadata": {},
   "outputs": [],
   "source": [
    "from nltk.corpus import stopwords\n",
    "import nltk\n",
    "from nltk.stem import WordNetLemmatizer"
   ]
  },
  {
   "cell_type": "code",
   "execution_count": 98,
   "metadata": {},
   "outputs": [],
   "source": [
    "def carregando_csv():\n",
    "    \n",
    "    # Lendo o txt\n",
    "    df = pd.read_csv(r\"train.txt\", sep=\";\")\n",
    "\n",
    "    # Renomeando colunas\n",
    "    df.columns = [\"mensagem\", \"emocao\"]\n",
    "\n",
    "    # Transformando em csv\n",
    "    df.to_csv(\"train.csv\", index=False)\n",
    "\n",
    "    print(\"Arquivo convertido e salvo como csv\")\n",
    "    \n",
    "    return df"
   ]
  },
  {
   "cell_type": "markdown",
   "metadata": {},
   "source": [
    "### Pré processamento dos Dados"
   ]
  },
  {
   "cell_type": "code",
   "execution_count": null,
   "metadata": {},
   "outputs": [],
   "source": [
    "def processando_dados(df):\n",
    "\n",
    "    # Retirando letras maiúsculas\n",
    "    df[\"mensagem\"] = df[\"mensagem\"].str.lower()\n",
    "\n",
    "    # Retirando palavras 'stopwords'\n",
    "    nltk.download('stopwords')\n",
    "    stop_words = set(stopwords.words('english'))\n",
    "\n",
    "    df[\"mensagem\"] = df[\"mensagem\"].apply(lambda x: ' '.join(word for word in x.split() if word not in stop_words))\n",
    "\n",
    "    # Lematiza as palavras\n",
    "    nltk.download('wordnet')\n",
    "    nltk.download('omw-1.4')\n",
    "\n",
    "    lemmatizer = WordNetLemmatizer()\n",
    "    df[\"mensagem\"] = df[\"mensagem\"].apply(lambda x: ' '.join(lemmatizer.lemmatize(word) for word in x.split()))\n",
    "\n",
    "    return df"
   ]
  },
  {
   "cell_type": "markdown",
   "metadata": {},
   "source": [
    "## Modelos"
   ]
  },
  {
   "cell_type": "markdown",
   "metadata": {},
   "source": [
    "### Bag-of-Words"
   ]
  },
  {
   "cell_type": "code",
   "execution_count": 100,
   "metadata": {},
   "outputs": [],
   "source": [
    "def import_bow():\n",
    "    \n",
    "    from sklearn.feature_extraction.text import CountVectorizer\n",
    "    from sklearn.naive_bayes import MultinomialNB\n",
    "\n",
    "def execute_bow(df):\n",
    "\n",
    "    import_bow()\n",
    "\n",
    "    X = df[\"mensagem\"]\n",
    "    y = df[\"emocao\"]\n",
    "    X_train, X_test, y_train, y_test = train_test_split(X, y, test_size=0.2, random_state=42)\n",
    "\n",
    "    # Usando a representação Bag of Words em X\n",
    "    vectorizer = CountVectorizer()\n",
    "    X_train_bow = vectorizer.fit_transform(X_train)\n",
    "    X_test_bow = vectorizer.transform(X_test)\n",
    "\n",
    "    # Criando e treinando o modelo\n",
    "    model = MultinomialNB()\n",
    "    model.fit(X_train_bow, y_train)\n",
    "\n",
    "    # Fazendo previsões\n",
    "    y_pred = model.predict(X_test_bow)\n",
    "\n",
    "    return y_test, y_pred"
   ]
  },
  {
   "cell_type": "markdown",
   "metadata": {},
   "source": [
    "### TF-IDF"
   ]
  },
  {
   "cell_type": "code",
   "execution_count": 101,
   "metadata": {},
   "outputs": [],
   "source": [
    "def import_tfidf():\n",
    "    from sklearn.feature_extraction.text import TfidfVectorizer\n",
    "    from sklearn.ensemble import RandomForestClassifier\n",
    "\n",
    "def execute_tfidf(df):\n",
    "\n",
    "    import_tfidf()\n",
    "\n",
    "    X = df['mensagem']\n",
    "    y = df['emocao']\n",
    "\n",
    "    # Convertendo mensagens para vetores TF-IDF\n",
    "    vectorizer = TfidfVectorizer()\n",
    "    X_tfidf = vectorizer.fit_transform(X)\n",
    "\n",
    "    # Dividindo os dados em treino e teste\n",
    "    X_train, X_test, y_train, y_test = train_test_split(X_tfidf, y, test_size=0.2, random_state=42)\n",
    "\n",
    "    # Criando e treinando o modelo (aqui com RandomForest, mas pode ser outro classificador)\n",
    "    model = RandomForestClassifier(random_state=42)\n",
    "    model.fit(X_train, y_train)\n",
    "\n",
    "    # Fazendo previsões\n",
    "    y_pred = model.predict(X_test)\n",
    "\n",
    "    return y_test, y_pred"
   ]
  },
  {
   "cell_type": "markdown",
   "metadata": {},
   "source": [
    "### N-grams"
   ]
  },
  {
   "cell_type": "code",
   "execution_count": 102,
   "metadata": {},
   "outputs": [],
   "source": [
    "def import_ngrams():\n",
    "    from sklearn.feature_extraction.text import CountVectorizer\n",
    "    from sklearn.naive_bayes import MultinomialNB\n",
    "\n",
    "def execute_ngrams(df):\n",
    "\n",
    "    import_ngrams()\n",
    "\n",
    "    X = df['mensagem']\n",
    "    y = df['emocao']\n",
    "\n",
    "    # Transformando em vetores N-grams (fazer testes para ver qual o melhor N)\n",
    "    vectorizer = CountVectorizer(ngram_range=(1, 2))\n",
    "\n",
    "    # Vetorizando as mensagens\n",
    "    X_ngrams = vectorizer.fit_transform(X)\n",
    "\n",
    "    # Dividindo os dados em treino e teste\n",
    "    X_train, X_test, y_train, y_test = train_test_split(X_ngrams, y, test_size=0.2, random_state=42)\n",
    "\n",
    "    # Criando e treinando o modelo\n",
    "    model = MultinomialNB()\n",
    "    model.fit(X_train, y_train)\n",
    "\n",
    "    # Fazendo previsões\n",
    "    y_pred = model.predict(X_test)\n",
    "\n",
    "\n",
    "    return y_test, y_pred"
   ]
  },
  {
   "cell_type": "markdown",
   "metadata": {},
   "source": [
    "## Main"
   ]
  },
  {
   "cell_type": "code",
   "execution_count": 103,
   "metadata": {},
   "outputs": [
    {
     "name": "stdout",
     "output_type": "stream",
     "text": [
      "Arquivo convertido e salvo como csv\n"
     ]
    },
    {
     "name": "stderr",
     "output_type": "stream",
     "text": [
      "[nltk_data] Downloading package stopwords to\n",
      "[nltk_data]     C:\\Users\\Samsung\\AppData\\Roaming\\nltk_data...\n",
      "[nltk_data]   Package stopwords is already up-to-date!\n",
      "[nltk_data] Downloading package wordnet to\n",
      "[nltk_data]     C:\\Users\\Samsung\\AppData\\Roaming\\nltk_data...\n",
      "[nltk_data]   Package wordnet is already up-to-date!\n",
      "[nltk_data] Downloading package omw-1.4 to\n",
      "[nltk_data]     C:\\Users\\Samsung\\AppData\\Roaming\\nltk_data...\n",
      "[nltk_data]   Package omw-1.4 is already up-to-date!\n"
     ]
    },
    {
     "name": "stdout",
     "output_type": "stream",
     "text": [
      "Selecione uma das técnicas para prosseguir:\n",
      "1 - Bag-of-Words\n",
      "2 - TF-IDF\n",
      "3 - N-grams\n",
      "4 - Word embeddings\n",
      "5 - Subword embeddings\n",
      "6 - BERT\n",
      "7 - Ver estatísticas\n",
      "8 - Sair\n",
      "Acurácia: 0.8753125\n",
      "\n",
      "Relatório de Classificação:\n",
      "               precision    recall  f1-score   support\n",
      "\n",
      "       anger       0.85      0.85      0.85       450\n",
      "        fear       0.84      0.85      0.84       389\n",
      "         joy       0.88      0.92      0.90      1053\n",
      "        love       0.78      0.77      0.77       261\n",
      "     sadness       0.93      0.90      0.91       938\n",
      "    surprise       0.88      0.73      0.80       109\n",
      "\n",
      "    accuracy                           0.88      3200\n",
      "   macro avg       0.86      0.84      0.85      3200\n",
      "weighted avg       0.88      0.88      0.88      3200\n",
      "\n",
      "Selecione uma das técnicas para prosseguir:\n",
      "1 - Bag-of-Words\n",
      "2 - TF-IDF\n",
      "3 - N-grams\n",
      "4 - Word embeddings\n",
      "5 - Subword embeddings\n",
      "6 - BERT\n",
      "7 - Ver estatísticas\n",
      "8 - Sair\n"
     ]
    }
   ],
   "source": [
    "def main():\n",
    "\n",
    "    df = carregando_csv()\n",
    "    df = processando_dados(df)\n",
    "\n",
    "    while True:\n",
    "        \n",
    "        print('Selecione uma das técnicas para prosseguir:')\n",
    "        print('1 - Bag-of-Words')\n",
    "        print('2 - TF-IDF')\n",
    "        print('3 - N-grams')\n",
    "        print('4 - Word embeddings')\n",
    "        print('5 - Subword embeddings')\n",
    "        print('6 - BERT')\n",
    "        print('7 - Ver estatísticas')\n",
    "        print('8 - Sair')\n",
    "\n",
    "        opcao = input()\n",
    "    \n",
    "        if opcao == '1':\n",
    "            y_test, y_pred = execute_bow(df)\n",
    "\n",
    "            print(\"Acurácia:\", accuracy_score(y_test, y_pred))\n",
    "            print(\"\\nRelatório de Classificação:\\n\", classification_report(y_test, y_pred))\n",
    "\n",
    "        elif opcao == '2':\n",
    "\n",
    "            y_test, y_pred = execute_tfidf(df)\n",
    "\n",
    "            print(\"Acurácia:\", accuracy_score(y_test, y_pred))\n",
    "            print(\"\\nRelatório de Classificação:\\n\", classification_report(y_test, y_pred))\n",
    "\n",
    "        elif opcao == '3':\n",
    "            y_test, y_pred = execute_ngrams(df)\n",
    "\n",
    "            print(\"Acurácia:\", accuracy_score(y_test, y_pred))\n",
    "            print(\"\\nRelatório de Classificação:\\n\", classification_report(y_test, y_pred))\n",
    "\n",
    "        elif opcao == '4':\n",
    "            print('Em construção')\n",
    "\n",
    "        elif opcao == '5':\n",
    "            print('Em construção')\n",
    "\n",
    "        elif opcao == '6':\n",
    "            print('Em construção')\n",
    "\n",
    "        elif opcao == '7':\n",
    "            print('Em construção')\n",
    "\n",
    "        elif opcao == '8':\n",
    "            break\n",
    "        \n",
    "        else:\n",
    "            print('Opção inválida :O tente de novo!!')\n",
    "        \n",
    "\n",
    "if __name__ == \"__main__\":\n",
    "    main()\n",
    "    "
   ]
  }
 ],
 "metadata": {
  "kernelspec": {
   "display_name": "Python 3",
   "language": "python",
   "name": "python3"
  },
  "language_info": {
   "codemirror_mode": {
    "name": "ipython",
    "version": 3
   },
   "file_extension": ".py",
   "mimetype": "text/x-python",
   "name": "python",
   "nbconvert_exporter": "python",
   "pygments_lexer": "ipython3",
   "version": "3.12.2"
  }
 },
 "nbformat": 4,
 "nbformat_minor": 2
}
