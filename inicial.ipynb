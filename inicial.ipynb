{
 "cells": [
  {
   "cell_type": "code",
   "execution_count": 17,
   "metadata": {},
   "outputs": [
    {
     "ename": "ModuleNotFoundError",
     "evalue": "No module named 'bagofwords'",
     "output_type": "error",
     "traceback": [
      "\u001b[1;31m---------------------------------------------------------------------------\u001b[0m",
      "\u001b[1;31mModuleNotFoundError\u001b[0m                       Traceback (most recent call last)",
      "Cell \u001b[1;32mIn[17], line 5\u001b[0m\n\u001b[0;32m      3\u001b[0m \u001b[38;5;28;01mimport\u001b[39;00m \u001b[38;5;21;01mmatplotlib\u001b[39;00m\u001b[38;5;21;01m.\u001b[39;00m\u001b[38;5;21;01mpyplot\u001b[39;00m \u001b[38;5;28;01mas\u001b[39;00m \u001b[38;5;21;01mplt\u001b[39;00m\n\u001b[0;32m      4\u001b[0m \u001b[38;5;28;01mimport\u001b[39;00m \u001b[38;5;21;01mseaborn\u001b[39;00m \u001b[38;5;28;01mas\u001b[39;00m \u001b[38;5;21;01msns\u001b[39;00m\n\u001b[1;32m----> 5\u001b[0m \u001b[38;5;28;01mimport\u001b[39;00m \u001b[38;5;21;01mbagofwords\u001b[39;00m\u001b[38;5;21;01m.\u001b[39;00m\u001b[38;5;21;01mipynb\u001b[39;00m\n\u001b[0;32m      6\u001b[0m \u001b[38;5;28;01mfrom\u001b[39;00m \u001b[38;5;21;01msklearn\u001b[39;00m\u001b[38;5;21;01m.\u001b[39;00m\u001b[38;5;21;01mmetrics\u001b[39;00m \u001b[38;5;28;01mimport\u001b[39;00m classification_report, accuracy_score\n",
      "\u001b[1;31mModuleNotFoundError\u001b[0m: No module named 'bagofwords'"
     ]
    }
   ],
   "source": [
    "import numpy as np\n",
    "import pandas as pd\n",
    "import matplotlib.pyplot as plt\n",
    "import seaborn as sns\n",
    "import bagofwords.ipynb\n",
    "from sklearn.metrics import classification_report, accuracy_score"
   ]
  },
  {
   "cell_type": "code",
   "execution_count": 3,
   "metadata": {},
   "outputs": [],
   "source": [
    "from nltk.corpus import stopwords\n",
    "import nltk\n",
    "from nltk.stem import WordNetLemmatizer"
   ]
  },
  {
   "cell_type": "code",
   "execution_count": null,
   "metadata": {},
   "outputs": [],
   "source": [
    "def carregando_csv():\n",
    "    \n",
    "    # Lendo o txt\n",
    "    df = pd.read_csv(r\"train.txt\", sep=\";\")\n",
    "\n",
    "    # Renomeando colunas\n",
    "    df.columns = [\"mensagem\", \"emocao\"]\n",
    "\n",
    "    # Transformando em csv\n",
    "    df.to_csv(\"train.csv\", index=False)\n",
    "\n",
    "    print(\"Arquivo convertido e salvo como csv\")\n",
    "    \n",
    "    return df"
   ]
  },
  {
   "cell_type": "markdown",
   "metadata": {},
   "source": [
    "### Pré processamento dos Dados"
   ]
  },
  {
   "cell_type": "code",
   "execution_count": null,
   "metadata": {},
   "outputs": [
    {
     "name": "stderr",
     "output_type": "stream",
     "text": [
      "[nltk_data] Downloading package stopwords to\n",
      "[nltk_data]     C:\\Users\\Samsung\\AppData\\Roaming\\nltk_data...\n",
      "[nltk_data]   Unzipping corpora\\stopwords.zip.\n",
      "[nltk_data] Downloading package wordnet to\n",
      "[nltk_data]     C:\\Users\\Samsung\\AppData\\Roaming\\nltk_data...\n",
      "[nltk_data] Downloading package omw-1.4 to\n",
      "[nltk_data]     C:\\Users\\Samsung\\AppData\\Roaming\\nltk_data...\n"
     ]
    }
   ],
   "source": [
    "def processando_dados(df):\n",
    "\n",
    "    # Retirando letras maiúsculas\n",
    "    df[\"mensagem\"] = df[\"mensagem\"].str.lower()\n",
    "\n",
    "    # Retirando palavras 'stopwords'\n",
    "    nltk.download('stopwords')\n",
    "    stop_words = set(stopwords.words('english'))\n",
    "\n",
    "    df[\"mensagem\"] = df[\"mensagem\"].apply(lambda x: ' '.join(word for word in x.split() if word not in stop_words))\n",
    "\n",
    "    nltk.download('wordnet')\n",
    "    nltk.download('omw-1.4')\n",
    "\n",
    "    lemmatizer = WordNetLemmatizer()\n",
    "    df[\"mensagem\"] = df[\"mensagem\"].apply(lambda x: ' '.join(lemmatizer.lemmatize(word) for word in x.split()))\n",
    "\n",
    "    return df"
   ]
  },
  {
   "cell_type": "markdown",
   "metadata": {},
   "source": [
    "### Main"
   ]
  },
  {
   "cell_type": "code",
   "execution_count": null,
   "metadata": {},
   "outputs": [],
   "source": [
    "def main():\n",
    "\n",
    "    df = carregando_csv()\n",
    "    df = processando_dados(df)\n",
    "\n",
    "    while(opcao):\n",
    "        \n",
    "        print('Selecione uma das técnicas para prosseguir:')\n",
    "        print('1 - Bag-of-Words')\n",
    "        print('2 - TF-IDF')\n",
    "        print('3 - n-grams')\n",
    "        print('4 - word embeddings')\n",
    "        print('5 - subword embeddings')\n",
    "        print('6 - BERT')\n",
    "        print('7 - Ver estatísticas')\n",
    "        print('8 - Sair')\n",
    "\n",
    "        opcao = input()\n",
    "    \n",
    "        if opcao == '1':\n",
    "            y_test, y_pred = bagofwords(df)\n",
    "\n",
    "            print(\"Acurácia:\", accuracy_score(y_test, y_pred))\n",
    "            print(\"\\nRelatório de Classificação:\\n\", classification_report(y_test, y_pred))\n",
    "            \n",
    "\n",
    "        elif opcao == '2':\n",
    "            print('Em construção')\n",
    "\n",
    "        elif opcao == '3':\n",
    "            print('Em construção')\n",
    "\n",
    "        elif opcao == '4':\n",
    "            print('Em construção')\n",
    "\n",
    "        elif opcao == '5':\n",
    "            print('Em construção')\n",
    "\n",
    "        elif opcao == '6':\n",
    "            print('Em construção')\n",
    "\n",
    "        elif opcao == '7':\n",
    "            print('Em construção')\n",
    "\n",
    "        elif opcao == '8':\n",
    "            break\n",
    "        \n",
    "        else:\n",
    "            print('Opção inválida :O tente de novo!!')\n",
    "    "
   ]
  }
 ],
 "metadata": {
  "kernelspec": {
   "display_name": "Python 3",
   "language": "python",
   "name": "python3"
  },
  "language_info": {
   "codemirror_mode": {
    "name": "ipython",
    "version": 3
   },
   "file_extension": ".py",
   "mimetype": "text/x-python",
   "name": "python",
   "nbconvert_exporter": "python",
   "pygments_lexer": "ipython3",
   "version": "3.12.2"
  }
 },
 "nbformat": 4,
 "nbformat_minor": 2
}
