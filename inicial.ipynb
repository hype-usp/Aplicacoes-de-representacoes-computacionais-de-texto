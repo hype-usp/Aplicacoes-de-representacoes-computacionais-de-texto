{
 "cells": [
  {
   "cell_type": "code",
   "execution_count": 131,
   "metadata": {},
   "outputs": [],
   "source": [
    "import numpy as np\n",
    "import pandas as pd\n",
    "import matplotlib.pyplot as plt\n",
    "import seaborn as sns\n",
    "from sklearn.metrics import classification_report, accuracy_score\n",
    "from sklearn.model_selection import train_test_split"
   ]
  },
  {
   "cell_type": "code",
   "execution_count": 132,
   "metadata": {},
   "outputs": [],
   "source": [
    "from nltk.corpus import stopwords\n",
    "import nltk\n",
    "from nltk.stem import WordNetLemmatizer"
   ]
  },
  {
   "cell_type": "code",
   "execution_count": 133,
   "metadata": {},
   "outputs": [],
   "source": [
    "def carregando_csv():\n",
    "    \n",
    "    # Lendo o txt\n",
    "    df = pd.read_csv(r\"train.txt\", sep=\";\")\n",
    "\n",
    "    # Renomeando colunas\n",
    "    df.columns = [\"mensagem\", \"emocao\"]\n",
    "\n",
    "    # Transformando em csv\n",
    "    df.to_csv(\"train.csv\", index=False)\n",
    "\n",
    "    print(\"Arquivo convertido e salvo como csv\")\n",
    "    \n",
    "    return df"
   ]
  },
  {
   "cell_type": "markdown",
   "metadata": {},
   "source": [
    "### Pré processamento dos Dados"
   ]
  },
  {
   "cell_type": "code",
   "execution_count": 134,
   "metadata": {},
   "outputs": [],
   "source": [
    "def processando_dados(df):\n",
    "\n",
    "    # Retirando letras maiúsculas\n",
    "    df[\"mensagem\"] = df[\"mensagem\"].str.lower()\n",
    "\n",
    "    # Retirando palavras 'stopwords'\n",
    "    nltk.download('stopwords')\n",
    "    stop_words = set(stopwords.words('english'))\n",
    "\n",
    "    df[\"mensagem\"] = df[\"mensagem\"].apply(lambda x: ' '.join(word for word in x.split() if word not in stop_words))\n",
    "\n",
    "    # Lematiza as palavras\n",
    "    nltk.download('wordnet')\n",
    "    nltk.download('omw-1.4')\n",
    "\n",
    "    lemmatizer = WordNetLemmatizer()\n",
    "    df[\"mensagem\"] = df[\"mensagem\"].apply(lambda x: ' '.join(lemmatizer.lemmatize(word) for word in x.split()))\n",
    "\n",
    "    return df"
   ]
  },
  {
   "cell_type": "markdown",
   "metadata": {},
   "source": [
    "## Modelos"
   ]
  },
  {
   "cell_type": "markdown",
   "metadata": {},
   "source": [
    "### Bag-of-Words"
   ]
  },
  {
   "cell_type": "code",
   "execution_count": 135,
   "metadata": {},
   "outputs": [],
   "source": [
    "from sklearn.feature_extraction.text import CountVectorizer\n",
    "from sklearn.naive_bayes import MultinomialNB\n",
    "\n",
    "def execute_bow(df):\n",
    "\n",
    "    X = df[\"mensagem\"]\n",
    "    y = df[\"emocao\"]\n",
    "    X_train, X_test, y_train, y_test = train_test_split(X, y, test_size=0.2, random_state=42)\n",
    "\n",
    "    # Usando a representação Bag of Words em X\n",
    "    vectorizer = CountVectorizer()\n",
    "    X_train_bow = vectorizer.fit_transform(X_train)\n",
    "    X_test_bow = vectorizer.transform(X_test)\n",
    "\n",
    "    # Criando e treinando o modelo\n",
    "    model = MultinomialNB()\n",
    "    model.fit(X_train_bow, y_train)\n",
    "\n",
    "    # Fazendo previsões\n",
    "    y_pred = model.predict(X_test_bow)\n",
    "\n",
    "    return y_test, y_pred"
   ]
  },
  {
   "cell_type": "markdown",
   "metadata": {},
   "source": [
    "### TF-IDF"
   ]
  },
  {
   "cell_type": "code",
   "execution_count": 136,
   "metadata": {},
   "outputs": [],
   "source": [
    "from sklearn.feature_extraction.text import TfidfVectorizer\n",
    "from sklearn.ensemble import RandomForestClassifier\n",
    "\n",
    "def execute_tfidf(df):\n",
    "\n",
    "    X = df['mensagem']\n",
    "    y = df['emocao']\n",
    "\n",
    "    # Convertendo mensagens para vetores TF-IDF\n",
    "    vectorizer = TfidfVectorizer()\n",
    "    X_tfidf = vectorizer.fit_transform(X)\n",
    "\n",
    "    # Dividindo os dados em treino e teste\n",
    "    X_train, X_test, y_train, y_test = train_test_split(X_tfidf, y, test_size=0.2, random_state=42)\n",
    "\n",
    "    # Criando e treinando o modelo (aqui com RandomForest, mas pode ser outro classificador)\n",
    "    model = RandomForestClassifier(random_state=42)\n",
    "    model.fit(X_train, y_train)\n",
    "\n",
    "    # Fazendo previsões\n",
    "    y_pred = model.predict(X_test)\n",
    "\n",
    "    return y_test, y_pred"
   ]
  },
  {
   "cell_type": "markdown",
   "metadata": {},
   "source": [
    "### N-grams"
   ]
  },
  {
   "cell_type": "code",
   "execution_count": 137,
   "metadata": {},
   "outputs": [],
   "source": [
    "from sklearn.feature_extraction.text import CountVectorizer\n",
    "from sklearn.naive_bayes import MultinomialNB\n",
    "\n",
    "def execute_ngrams(df):\n",
    "\n",
    "\n",
    "    X = df['mensagem']\n",
    "    y = df['emocao']\n",
    "\n",
    "    # Transformando em vetores N-grams (fazer testes depois para ver qual o melhor N, a acurácia tá baixa)\n",
    "    vectorizer = CountVectorizer(ngram_range=(1, 2))\n",
    "\n",
    "    # Vetorizando as mensagens\n",
    "    X_ngrams = vectorizer.fit_transform(X)\n",
    "\n",
    "    # Dividindo os dados em treino e teste\n",
    "    X_train, X_test, y_train, y_test = train_test_split(X_ngrams, y, test_size=0.2, random_state=42)\n",
    "\n",
    "    # Criando e treinando o modelo\n",
    "    model = MultinomialNB()\n",
    "    model.fit(X_train, y_train)\n",
    "\n",
    "    # Fazendo previsões\n",
    "    y_pred = model.predict(X_test)\n",
    "\n",
    "\n",
    "    return y_test, y_pred"
   ]
  },
  {
   "cell_type": "markdown",
   "metadata": {},
   "source": [
    "### Word embeddings"
   ]
  },
  {
   "cell_type": "code",
   "execution_count": 138,
   "metadata": {},
   "outputs": [],
   "source": [
    "from tensorflow.keras.preprocessing.text import Tokenizer\n",
    "from tensorflow.keras.preprocessing.sequence import pad_sequences\n",
    "from tensorflow.keras.models import Sequential\n",
    "from tensorflow.keras.layers import Embedding, LSTM, Dense\n",
    "\n",
    "def execute_word_embeddings(df):\n",
    "\n",
    "    X = df['mensagem']\n",
    "    y = pd.get_dummies(df['emocao']).values  # Convertendo classes para one-hot encoding\n",
    "\n",
    "    # Tokenização\n",
    "    tokenizer = Tokenizer(num_words=5000)\n",
    "    tokenizer.fit_on_texts(X)\n",
    "    X_sequences = tokenizer.texts_to_sequences(X)\n",
    "    X_padded = pad_sequences(X_sequences, maxlen=100)\n",
    "\n",
    "    # Separação de dados\n",
    "    X_train, X_test, y_train, y_test = train_test_split(X_padded, y, test_size=0.2, random_state=42)\n",
    "\n",
    "    # Modelo com embeddings\n",
    "    model = Sequential([\n",
    "        Embedding(input_dim=5000, output_dim=100, input_length=100),\n",
    "        LSTM(64),\n",
    "        Dense(32, activation='relu'),\n",
    "        Dense(y_train.shape[1], activation='softmax')\n",
    "    ])\n",
    "    model.compile(optimizer='adam', loss='categorical_crossentropy', metrics=['accuracy'])\n",
    "\n",
    "    # Treinamento\n",
    "    model.fit(X_train, y_train, epochs=5, validation_split=0.2)\n",
    "\n",
    "    # Predições\n",
    "    y_pred = model.predict(X_test)\n",
    "    y_pred_labels = np.argmax(y_pred, axis=1)\n",
    "    y_test_labels = np.argmax(y_test, axis=1)\n",
    "\n",
    "\n",
    "    return y_test_labels, y_pred_labels"
   ]
  },
  {
   "cell_type": "markdown",
   "metadata": {},
   "source": [
    "### Subword embeddings"
   ]
  },
  {
   "cell_type": "code",
   "execution_count": 139,
   "metadata": {},
   "outputs": [
    {
     "ename": "ModuleNotFoundError",
     "evalue": "No module named 'transformers'",
     "output_type": "error",
     "traceback": [
      "\u001b[1;31m---------------------------------------------------------------------------\u001b[0m",
      "\u001b[1;31mModuleNotFoundError\u001b[0m                       Traceback (most recent call last)",
      "Cell \u001b[1;32mIn[139], line 1\u001b[0m\n\u001b[1;32m----> 1\u001b[0m \u001b[38;5;28;01mfrom\u001b[39;00m \u001b[38;5;21;01mtransformers\u001b[39;00m \u001b[38;5;28;01mimport\u001b[39;00m BertTokenizer, TFBertForSequenceClassification\n\u001b[0;32m      2\u001b[0m \u001b[38;5;28;01mimport\u001b[39;00m \u001b[38;5;21;01mtensorflow\u001b[39;00m \u001b[38;5;28;01mas\u001b[39;00m \u001b[38;5;21;01mtf\u001b[39;00m\n\u001b[0;32m      4\u001b[0m \u001b[38;5;28;01mdef\u001b[39;00m \u001b[38;5;21mexecute_subword_embeddings\u001b[39m(df):\n",
      "\u001b[1;31mModuleNotFoundError\u001b[0m: No module named 'transformers'"
     ]
    }
   ],
   "source": [
    "from transformers import BertTokenizer, TFBertForSequenceClassification\n",
    "import tensorflow as tf\n",
    "\n",
    "def execute_subword_embeddings(df):\n",
    "\n",
    "    X = df['mensagem']\n",
    "    y = pd.get_dummies(df['emocao']).values  # Convertendo classes para one-hot encoding\n",
    "\n",
    "    # Separação de dados\n",
    "    X_train, X_test, y_train, y_test = train_test_split(X, y, test_size=0.2, random_state=42)\n",
    "\n",
    "    # Tokenização com BERT\n",
    "    tokenizer = BertTokenizer.from_pretrained('bert-base-uncased')\n",
    "    train_encodings = tokenizer(list(X_train), truncation=True, padding=True, max_length=100, return_tensors=\"tf\")\n",
    "    test_encodings = tokenizer(list(X_test), truncation=True, padding=True, max_length=100, return_tensors=\"tf\")\n",
    "\n",
    "    # Modelo BERT\n",
    "    model = TFBertForSequenceClassification.from_pretrained('bert-base-uncased', num_labels=y.shape[1])\n",
    "    model.compile(optimizer=tf.keras.optimizers.Adam(learning_rate=5e-5), \n",
    "                  loss='categorical_crossentropy', \n",
    "                  metrics=['accuracy'])\n",
    "\n",
    "    # Treinamento\n",
    "    model.fit(\n",
    "        {'input_ids': train_encodings['input_ids'], 'attention_mask': train_encodings['attention_mask']},\n",
    "        y_train,\n",
    "        epochs=3,\n",
    "        batch_size=16,\n",
    "        validation_split=0.2\n",
    "    )\n",
    "\n",
    "    # Predições\n",
    "    outputs = model({'input_ids': test_encodings['input_ids'], 'attention_mask': test_encodings['attention_mask']})\n",
    "    y_pred = tf.argmax(outputs.logits, axis=1).numpy()\n",
    "    y_test_labels = np.argmax(y_test, axis=1)\n",
    "\n",
    "    # Acurácia\n",
    "    acc = accuracy_score(y_test_labels, y_pred)\n",
    "    print(f\"Acurácia com subword embeddings: {acc:.2f}\")\n",
    "    \n",
    "    return y_test_labels, y_pred"
   ]
  },
  {
   "cell_type": "markdown",
   "metadata": {},
   "source": [
    "### BERT"
   ]
  },
  {
   "cell_type": "markdown",
   "metadata": {},
   "source": [
    "## Main"
   ]
  },
  {
   "cell_type": "code",
   "execution_count": null,
   "metadata": {},
   "outputs": [
    {
     "name": "stdout",
     "output_type": "stream",
     "text": [
      "Arquivo convertido e salvo como csv\n"
     ]
    },
    {
     "name": "stderr",
     "output_type": "stream",
     "text": [
      "[nltk_data] Downloading package stopwords to\n",
      "[nltk_data]     C:\\Users\\Samsung\\AppData\\Roaming\\nltk_data...\n",
      "[nltk_data]   Package stopwords is already up-to-date!\n",
      "[nltk_data] Downloading package wordnet to\n",
      "[nltk_data]     C:\\Users\\Samsung\\AppData\\Roaming\\nltk_data...\n",
      "[nltk_data]   Package wordnet is already up-to-date!\n",
      "[nltk_data] Downloading package omw-1.4 to\n",
      "[nltk_data]     C:\\Users\\Samsung\\AppData\\Roaming\\nltk_data...\n",
      "[nltk_data]   Package omw-1.4 is already up-to-date!\n"
     ]
    },
    {
     "name": "stdout",
     "output_type": "stream",
     "text": [
      "Selecione uma das técnicas para prosseguir:\n",
      "1 - Bag-of-Words\n",
      "2 - TF-IDF\n",
      "3 - N-grams\n",
      "4 - Word embeddings\n",
      "5 - Subword embeddings\n",
      "6 - BERT\n",
      "7 - Ver estatísticas\n",
      "8 - Sair\n"
     ]
    },
    {
     "name": "stderr",
     "output_type": "stream",
     "text": [
      "C:\\Users\\Samsung\\AppData\\Roaming\\Python\\Python312\\site-packages\\keras\\src\\layers\\core\\embedding.py:90: UserWarning: Argument `input_length` is deprecated. Just remove it.\n",
      "  warnings.warn(\n"
     ]
    },
    {
     "name": "stdout",
     "output_type": "stream",
     "text": [
      "Epoch 1/5\n",
      "\u001b[1m320/320\u001b[0m \u001b[32m━━━━━━━━━━━━━━━━━━━━\u001b[0m\u001b[37m\u001b[0m \u001b[1m26s\u001b[0m 64ms/step - accuracy: 0.3970 - loss: 1.5065 - val_accuracy: 0.7930 - val_loss: 0.6319\n",
      "Epoch 2/5\n",
      "\u001b[1m320/320\u001b[0m \u001b[32m━━━━━━━━━━━━━━━━━━━━\u001b[0m\u001b[37m\u001b[0m \u001b[1m19s\u001b[0m 58ms/step - accuracy: 0.8617 - loss: 0.4061 - val_accuracy: 0.8801 - val_loss: 0.3448\n",
      "Epoch 3/5\n",
      "\u001b[1m320/320\u001b[0m \u001b[32m━━━━━━━━━━━━━━━━━━━━\u001b[0m\u001b[37m\u001b[0m \u001b[1m21s\u001b[0m 67ms/step - accuracy: 0.9602 - loss: 0.1252 - val_accuracy: 0.8887 - val_loss: 0.3209\n",
      "Epoch 4/5\n",
      "\u001b[1m320/320\u001b[0m \u001b[32m━━━━━━━━━━━━━━━━━━━━\u001b[0m\u001b[37m\u001b[0m \u001b[1m23s\u001b[0m 71ms/step - accuracy: 0.9757 - loss: 0.0728 - val_accuracy: 0.8926 - val_loss: 0.3625\n",
      "Epoch 5/5\n",
      "\u001b[1m320/320\u001b[0m \u001b[32m━━━━━━━━━━━━━━━━━━━━\u001b[0m\u001b[37m\u001b[0m \u001b[1m38s\u001b[0m 62ms/step - accuracy: 0.9835 - loss: 0.0461 - val_accuracy: 0.8941 - val_loss: 0.4038\n",
      "\u001b[1m100/100\u001b[0m \u001b[32m━━━━━━━━━━━━━━━━━━━━\u001b[0m\u001b[37m\u001b[0m \u001b[1m2s\u001b[0m 21ms/step\n",
      "Acurácia: 0.885625\n",
      "\n",
      "Relatório de Classificação:\n",
      "               precision    recall  f1-score   support\n",
      "\n",
      "           0       0.85      0.92      0.88       450\n",
      "           1       0.93      0.77      0.85       389\n",
      "           2       0.87      0.95      0.91      1053\n",
      "           3       0.84      0.66      0.74       261\n",
      "           4       0.94      0.92      0.93       938\n",
      "           5       0.75      0.84      0.79       109\n",
      "\n",
      "    accuracy                           0.89      3200\n",
      "   macro avg       0.86      0.84      0.85      3200\n",
      "weighted avg       0.89      0.89      0.88      3200\n",
      "\n",
      "Selecione uma das técnicas para prosseguir:\n",
      "1 - Bag-of-Words\n",
      "2 - TF-IDF\n",
      "3 - N-grams\n",
      "4 - Word embeddings\n",
      "5 - Subword embeddings\n",
      "6 - BERT\n",
      "7 - Ver estatísticas\n",
      "8 - Sair\n"
     ]
    }
   ],
   "source": [
    "def main():\n",
    "\n",
    "    df = carregando_csv()\n",
    "    df = processando_dados(df)\n",
    "\n",
    "    while True:\n",
    "        \n",
    "        print('Selecione uma das técnicas para prosseguir:')\n",
    "        print('1 - Bag-of-Words')\n",
    "        print('2 - TF-IDF')\n",
    "        print('3 - N-grams')\n",
    "        print('4 - Word embeddings')\n",
    "        print('5 - Subword embeddings')\n",
    "        print('6 - BERT')\n",
    "        print('7 - Ver estatísticas')\n",
    "        print('8 - Sair')\n",
    "\n",
    "        opcao = input()\n",
    "    \n",
    "        if opcao == '1':\n",
    "            y_test, y_pred = execute_bow(df)\n",
    "\n",
    "            print(\"Acurácia:\", accuracy_score(y_test, y_pred))\n",
    "            print(\"\\nRelatório de Classificação:\\n\", classification_report(y_test, y_pred))\n",
    "\n",
    "        elif opcao == '2':\n",
    "\n",
    "            y_test, y_pred = execute_tfidf(df)\n",
    "\n",
    "            print(\"Acurácia:\", accuracy_score(y_test, y_pred))\n",
    "            print(\"\\nRelatório de Classificação:\\n\", classification_report(y_test, y_pred))\n",
    "\n",
    "        elif opcao == '3':\n",
    "            y_test, y_pred = execute_ngrams(df)\n",
    "\n",
    "            print(\"Acurácia:\", accuracy_score(y_test, y_pred))\n",
    "            print(\"\\nRelatório de Classificação:\\n\", classification_report(y_test, y_pred))\n",
    "\n",
    "        elif opcao == '4':\n",
    "            y_test, y_pred = execute_word_embeddings(df)\n",
    "            \n",
    "            print(\"Acurácia:\", accuracy_score(y_test, y_pred))\n",
    "            print(\"\\nRelatório de Classificação:\\n\", classification_report(y_test, y_pred))\n",
    "\n",
    "        elif opcao == '5':\n",
    "            y_test, y_pred = execute_subword_embeddings(df)\n",
    "\n",
    "            print(\"Acurácia:\", accuracy_score(y_test, y_pred))\n",
    "            print(\"\\nRelatório de Classificação:\\n\", classification_report(y_test, y_pred))\n",
    "\n",
    "        elif opcao == '6':\n",
    "            print('Em construção')\n",
    "\n",
    "        elif opcao == '7':\n",
    "            print('Em construção')\n",
    "\n",
    "        elif opcao == '8':\n",
    "            break\n",
    "        \n",
    "        else:\n",
    "            print('Opção inválida :O tente de novo!!')\n",
    "        \n",
    "\n",
    "if __name__ == \"__main__\":\n",
    "    main()\n",
    "    "
   ]
  }
 ],
 "metadata": {
  "kernelspec": {
   "display_name": "Python 3",
   "language": "python",
   "name": "python3"
  },
  "language_info": {
   "codemirror_mode": {
    "name": "ipython",
    "version": 3
   },
   "file_extension": ".py",
   "mimetype": "text/x-python",
   "name": "python",
   "nbconvert_exporter": "python",
   "pygments_lexer": "ipython3",
   "version": "3.12.2"
  }
 },
 "nbformat": 4,
 "nbformat_minor": 2
}
